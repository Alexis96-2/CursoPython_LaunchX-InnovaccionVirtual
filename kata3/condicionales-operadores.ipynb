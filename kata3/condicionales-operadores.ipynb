{
 "cells": [
  {
   "cell_type": "code",
   "execution_count": null,
   "metadata": {},
   "outputs": [],
   "source": []
  },
  {
   "cell_type": "markdown",
   "metadata": {},
   "source": [
    "## Ejercicio - Escribir declaraciones if, else, y elif\n",
    "\n",
    "Para este ejercicio, escribirás una lógica condicional que imprima una advertencia si un asteroide se acerca a la Tierra demasiado rápido. La velocidad del asteroide varía dependiendo de lo cerca que esté del sol, y cualquier velocidad superior a 25 kilómetros por segundo (km/s) merece una advertencia.\n",
    "\n",
    "Un asteroide se acerca, y viaja a una velocidad de 49 km/s.\n",
    "\n",
    "-Añadir el código necesario para crear una variable que guarde la velocidad del asteroide.\n",
    "-Escribe una expresión de prueba para calcular si necesita una advertencia.\n",
    "-Agregue las instrucciones que se ejecutarán si la expresión de prueba es true o false."
   ]
  },
  {
   "cell_type": "code",
   "execution_count": 1,
   "metadata": {},
   "outputs": [
    {
     "name": "stdout",
     "output_type": "stream",
     "text": [
      "¡Atención! ¡Peligro inminente! ¡Asteroide en camino!\n"
     ]
    }
   ],
   "source": [
    "velocidad_advertencia=25 #km/s\n",
    "Velocidad_asteroide=49 #km/s\n",
    "if Velocidad_asteroide > velocidad_advertencia:\n",
    "    print(\"¡Atención! ¡Peligro inminente! ¡Asteroide en camino!\")\n",
    "else:\n",
    "    print(\"Sin novedades...\")"
   ]
  },
  {
   "cell_type": "markdown",
   "metadata": {},
   "source": [
    "Si un asteroide entra en la atmósfera de la Tierra a una velocidad mayor o igual a 20 km/s, a veces produce un rayo de luz que se puede ver desde la Tierra. Escribe la lógica condicional que usa declaraciones if, else, y elif para alertar a las personas de todo el mundo que deben buscar un asteroide en el cielo. ¡Hay uno que se dirige a la tierra ahora a una velocidad de 19 km/s!\n",
    "\n",
    "-Agrega el código para crear una variable para un asteroide que viaja a 19 km/s\n",
    "-Escribe varias expresiones de prueba para determinar si puedes ver el rayo de luz desde la tierra\n",
    "-Agrega las instrucciones que se ejecutarán si las expresiones de prueba son True o False"
   ]
  },
  {
   "cell_type": "code",
   "execution_count": 1,
   "metadata": {},
   "outputs": [
    {
     "name": "stdout",
     "output_type": "stream",
     "text": [
      "El cielo esta despejado de eventos.\n"
     ]
    }
   ],
   "source": [
    "velocidad_advertencia2=20 #km/s\n",
    "velocidad_asteroide2=19 #km/s\n",
    "if velocidad_asteroide2 > velocidad_advertencia2:\n",
    "    print(\"¡Aviso! ¡Todo el mundo podra observar! ¡Evento asteroide! ¡Rayo de luz!\")\n",
    "elif velocidad_asteroide2 == velocidad_advertencia2:\n",
    "    print(\"¡Aviso! ¡Todo el mundo podra observar! ¡Evento asteroide! ¡Rayo de luz!\")\n",
    "else:\n",
    "    print(\"El cielo esta despejado de eventos.\")"
   ]
  },
  {
   "cell_type": "markdown",
   "metadata": {},
   "source": [
    "## Ejercicio: Uso de operadores and y or\n",
    "En el ejercicio anterior, trabajó con sentencias if, else, y elif para escribir programas con lógica condicional compleja. Para crear expresiones booleanas aún más interesantes, puede usar los operadores and y or en Python.\n",
    "\n",
    "Las expresiones and son sólo si ambas subexpresiones son verdaderas.\n",
    "\n",
    "expresión1 and expresión2\n",
    "\n",
    "Las expresiones or son True si al menos una subexpresión es verdadera.\n",
    "\n",
    "expresión1 or expresión2\n",
    "\n",
    "En este ejercicio, aprenderás información más matizada sobre cuándo los asteroides representan un peligro para la Tierra, y utilizarás esa información para mejorar nuestro sistema de advertencia. Aquí está la nueva información que necesitas saber:\n",
    "\n",
    "*Los asteroides de menos de 25 metros en su dimensión más grande probablemente se quemarán a medida que entren en la atmósfera de la Tierra.\n",
    "\n",
    "Si una pieza de un asteroide que es más grande que 25 metros pero más pequeña que 1000 metros golpeara la Tierra, causaría mucho daño.\n",
    "También discutimos en el ejercicio anterior que:\n",
    "\n",
    "La velocidad del asteroide varía en función de lo cerca que esté del sol, y cualquier velocidad superior a 25 kilómetros por segundo (km/s) merece una advertencia.\n",
    "Si un asteroide entra en la atmósfera de la Tierra a una velocidad mayor o igual a 20 km/s, a veces produce un rayo de luz que se puede ver desde la Tierra.\n",
    "Usando toda esta información, escribe un programa que emita la advertencia o información correcta a la gente de la Tierra, según la velocidad y el tamaño de un asteroide. Utiliza instrucciones if, else, y elif, así como los operadores and y or.\n",
    "\n",
    "-Agrega el código para crear nuevas variables para la velocidad y el tamaño del asteroide\n",
    "-Para probar el código, prueba con varias velocidades y tamaños\n",
    "-Escribe varias expresiones de prueba o combinaciones de expresiones de prueba para determinar qué mensaje se debe enviar a Tierra."
   ]
  },
  {
   "cell_type": "code",
   "execution_count": 2,
   "metadata": {},
   "outputs": [
    {
     "name": "stdout",
     "output_type": "stream",
     "text": [
      "¡Asteroide peligroso en camino!\n"
     ]
    }
   ],
   "source": [
    "t_lim_asteroide=25 #metros\n",
    "vel_advertencia=25 #km/s\n",
    "vel_rayo=20 #km/s\n",
    "asteroide=30 #metros\n",
    "vel_asteroide=22 #km/s\n",
    "if asteroide > t_lim_asteroide or vel_asteroide > vel_advertencia:\n",
    "    print(\"¡Asteroide peligroso en camino!\")\n",
    "elif vel_asteroide >= vel_rayo and vel_asteroide <= vel_advertencia:\n",
    "    print(\"¡Rayo de luz visible sin problemas!\")\n",
    "else:\n",
    "    print(\"Sin novedades.\")"
   ]
  }
 ],
 "metadata": {
  "interpreter": {
   "hash": "976971a01f6a693ac01ba6ef90bdaec72cfc53b2b1f90d14be79956a43703cae"
  },
  "kernelspec": {
   "display_name": "Python 3.10.2 64-bit",
   "language": "python",
   "name": "python3"
  },
  "language_info": {
   "codemirror_mode": {
    "name": "ipython",
    "version": 3
   },
   "file_extension": ".py",
   "mimetype": "text/x-python",
   "name": "python",
   "nbconvert_exporter": "python",
   "pygments_lexer": "ipython3",
   "version": "3.10.2"
  },
  "orig_nbformat": 4
 },
 "nbformat": 4,
 "nbformat_minor": 2
}

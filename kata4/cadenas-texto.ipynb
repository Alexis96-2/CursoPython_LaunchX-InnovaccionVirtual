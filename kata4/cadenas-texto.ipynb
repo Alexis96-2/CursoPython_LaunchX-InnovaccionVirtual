{
 "cells": [
  {
   "cell_type": "code",
   "execution_count": null,
   "metadata": {},
   "outputs": [],
   "source": []
  },
  {
   "cell_type": "markdown",
   "metadata": {},
   "source": [
    "## Ejercicio 1: Transformar cadenas\n",
    "Hay varias operaciones que puedes realizar en las cadenas cuando las manipulamos. En este ejercicio, usarás métodos de cadena para modificar el texto con hechos sobre la Luna y luego extraerás información para crear un breve resumen.\n",
    "\n",
    "Nota Dedica unos minutos a tratar de encontrar una solución. Luego desplázate hacia abajo hasta la parte inferior para ver si has logrado compilar el programa de acuerdo con las especificaciones.\n",
    "\n",
    "El texto con el que trabajarás es el siguiente:\n",
    "\n",
    "text = \"\"\"Interesting facts about the Moon. The Moon is Earth's only satellite. There are several interesting facts about the Moon and how it affects life here on Earth. \n",
    "On average, the Moon moves 4cm away from the Earth every year. This yearly drift is not significant enough to cause immediate effects on Earth. The highest daylight temperature of the Moon is 127 C.\"\"\"\n",
    "Primero, divide el texto en cada oración para trabajar con su contenido:\n",
    "\n",
    "### Añade el código necesario\n",
    "Ahora, define algunas palabras clave para búsqueda que te ayudarán a determinar si una oración contiene un hecho.\n",
    "\n",
    "### Define las palabras pista: average, temperature y distance suenan bien\n",
    "Cre un bucle para imprimir solo datos sobre la Luna que estén relacionados con las palabras clave definidas anteriormente:\n",
    "\n",
    "### Ciclo for para recorrer la cadena\n",
    "Finalmente, actualiza el bucle(ciclo) para cambiar C a Celsius:\n",
    "\n",
    "### Ciclo para cambiar C a Celsius\n",
    "Recuerda: Lo importante es intentarlo, puedes auxiliarte de internet, libros, etc. El objetivo de una kata es la comprobación de la comprensión de la lección y su aplicación inmediata a la resolución de problemas. Go for it!"
   ]
  },
  {
   "cell_type": "code",
   "execution_count": 6,
   "metadata": {},
   "outputs": [
    {
     "name": "stdout",
     "output_type": "stream",
     "text": [
      "The Moon is Earth's only satellite\n",
      "The Moon is Earth's only satellite\n",
      "The Moon is Earth's only satellite\n",
      "The Moon is Earth's only satellite\n",
      "The Moon is Earth's only satellite\n",
      "The Moon is Earth's only satellite\n",
      "There are several interesting facts about the Moon and how it affects life here on Earth\n",
      "\n",
      "On average, the Moon moves 4cm away from the Earth every year\n",
      "This yearly drift is not significant enough to cause immediate effects on Earth\n",
      "The highest daylight temperature of the Moon is 127 C.\n",
      "Interesting facts about the Moon\n",
      "The Moon is Earth's only satellite\n",
      "There are several interesting facts about the Moon and how it affects life here on Earth\n",
      "\n",
      "On average, the Moon moves 4cm away from the Earth every year\n",
      "This yearly drift is not significant enough to cause immediate effects on Earth\n",
      "The highest daylight temperature of the Moon is 127 Celsius.\n"
     ]
    }
   ],
   "source": [
    "text = \"\"\"Interesting facts about the Moon. The Moon is Earth's only satellite. There are several interesting facts about the Moon and how it affects life here on Earth. \n",
    "On average, the Moon moves 4cm away from the Earth every year. This yearly drift is not significant enough to cause immediate effects on Earth. The highest daylight temperature of the Moon is 127 C.\"\"\"\n",
    "text_div=text.split('. ')\n",
    "palb_clave = [\"average\", \"temperature\", \"distance\"]\n",
    "for com_text in text_div:\n",
    "    for palb_clave in palb_clave:\n",
    "        if palb_clave in com_text:\n",
    "            print(com_text)\n",
    "for oracion in text_div:\n",
    "    for palb_clave in palb_clave:\n",
    "        if palb_clave in oracion:\n",
    "            print(oracion.replace(' C', ' Celsius'))\n",
    "            break\n"
   ]
  },
  {
   "cell_type": "markdown",
   "metadata": {},
   "source": [
    "## Ejercicio 2: Formateando Cadenas\n",
    "Saber cómo dar formato a las cadenas es esencial cuando se presenta información de un programa. Hay algunas maneras diferentes de lograr esto en Python. En este ejercicio, se utilizan variables que contienen datos clave sobre la gravedad en varias lunas y luego se utilizan para dar formato e imprimir la información.\n",
    "\n",
    "El formato tiene que acomodar información sobre otras lunas, por lo que debe ser genérico.\n",
    "\n",
    "En lugar de reemplazar las variables en una cadena larga como parte de un párrafo, utiliza la información para presentarla en un formato tabular. El resultado debería verse así:\n",
    "\n",
    "### Gravity Facts about Ganymede\n",
    "-------------------------------------------------------------------------------\n",
    "Planet Name: Mars\n",
    "Gravity on Ganymede: 1.4300000000000002 m/s2\n",
    "### Datos con los que vas a trabajar\n",
    "name = \"Moon\"\n",
    "gravity = 0.00162 # in kms\n",
    "planet = \"Earth\"\n",
    "Primero, crea un título para el texto. Debido a que este texto trata sobre la gravedad en la Tierra y la Luna, úsalo para crear un título significativo. Utiliza las variables en lugar de escribir.\n",
    "\n",
    "### Creamos el título\n",
    "Ahora crea una plantilla de cadena multilínea para contener el resto de la información. En lugar de usar kilómetros, debes convertir la distancia a metros multiplicando por 1,000.\n",
    "\n",
    "### Creamos la plantilla\n",
    "Finalmente, usa ambas variables para unir el título y los hechos.\n",
    "\n",
    "### Unión de ambas cadenas\n",
    "Ahora usa información de una luna diferente para ver si la plantilla todavía funciona.\n",
    "\n",
    "Datos muestra:\n",
    "\n",
    "planeta = 'Marte '\n",
    "gravedad  = 0.00143\n",
    "nombre = 'Ganímedes'\n",
    "### Comprueba la plantilla\n",
    "### print(nombre_plantilla)\n",
    "La salida no muestra información sobre Marte. Todavía muestra información sobre la Luna. Esto sucede porque las cadenas f están ansiosas en su evaluación, por lo que las variables una vez asignadas no se pueden reasignar. Para evitar este problema, vuelva a hacer la plantilla para utilizar .format():\n",
    "\n",
    "### Nueva plantilla\n",
    "Debido a que .format() no permite expresiones, la gravedad en Ganímedes es incorrecta. Asegúrese de que la operación se realiza fuera de la plantilla de formato e imprima de nuevo para ver el resultado de trabajo.\n",
    "\n",
    "### Pista: print(nueva_plantilla.format(variables))"
   ]
  },
  {
   "cell_type": "code",
   "execution_count": 4,
   "metadata": {},
   "outputs": [
    {
     "name": "stdout",
     "output_type": "stream",
     "text": [
      "Atracción Entre Earth Y La Moon\n",
      "-------------------------------------------------------------------------------- \n",
      "Nombre del planeta: Earth \n",
      "Gravedad en Moon: 1.6199999999999999 m/s2\n",
      "\n",
      "Atracción Entre Marte  Y Ganímedes\n",
      "-------------------------------------------------------------------------------\n",
      "Nombre del planeta: Marte \n",
      "Gravedad en Ganímedes: 1.4300000000000002 m/s2\n",
      "\n"
     ]
    }
   ],
   "source": [
    "# Datos con los que vas a trabajar\n",
    "name = \"Moon\"\n",
    "gravity = 0.00162 # in kms\n",
    "planet = \"Earth\"\n",
    "tiutlo = f'atracción entre {planet} y la {name}'\n",
    "text1=f\"{'-'*80} \\nNombre del planeta: {planet} \\nGravedad en {name}: {gravity * 1000} m/s2\"\n",
    "dato1=f\"{tiutlo.title()}\\n{text1}\"\n",
    "print(dato1)\n",
    "\n",
    "# Nuevos datos muestra\n",
    "planeta = 'Marte '\n",
    "gravedad  = 0.00143\n",
    "nombre = 'Ganímedes'\n",
    "nuevo_dato = \"\"\"\n",
    "Atracción Entre {planeta} Y {nombre}\n",
    "-------------------------------------------------------------------------------\n",
    "Nombre del planeta: {planeta}\n",
    "Gravedad en {nombre}: {gravedad} m/s2\n",
    "\"\"\"\n",
    "print(nuevo_dato.format(nombre=nombre, planeta=planeta, gravedad=gravedad*1000))\n"
   ]
  }
 ],
 "metadata": {
  "interpreter": {
   "hash": "976971a01f6a693ac01ba6ef90bdaec72cfc53b2b1f90d14be79956a43703cae"
  },
  "kernelspec": {
   "display_name": "Python 3.10.2 64-bit",
   "language": "python",
   "name": "python3"
  },
  "language_info": {
   "codemirror_mode": {
    "name": "ipython",
    "version": 3
   },
   "file_extension": ".py",
   "mimetype": "text/x-python",
   "name": "python",
   "nbconvert_exporter": "python",
   "pygments_lexer": "ipython3",
   "version": "3.10.2"
  },
  "orig_nbformat": 4
 },
 "nbformat": 4,
 "nbformat_minor": 2
}

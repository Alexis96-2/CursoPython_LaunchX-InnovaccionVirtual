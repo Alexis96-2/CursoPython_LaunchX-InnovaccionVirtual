{
 "cells": [
  {
   "cell_type": "code",
   "execution_count": null,
   "metadata": {},
   "outputs": [],
   "source": []
  },
  {
   "cell_type": "markdown",
   "metadata": {},
   "source": [
    "## Ejercicio: Uso de funciones en Python\n",
    "### Ejercicio 1: Trabajar con argumentos en funciones\n",
    "Los argumentos requeridos en las funciones se utilizan cuando las funciones necesitan que esos argumentos funcionen correctamente. En este ejercicio, construirás un informe de combustible que requiere información de varias ubicaciones de combustible en todo el cohete.\n",
    "\n",
    "TIP Dedica unos minutos para tratar de encontrar una solución. Luego desplázate hacia abajo hasta la parte inferior para ver si has logrado compilar el programa de acuerdo con las especificaciones\n",
    "\n",
    "Comienza por crear una función que necesite tres lecturas de combustible y devuelva un informe:\n",
    "\n",
    "#### Función para leer 3 tanques de combustible y muestre el promedio\n",
    "Ahora que hemos definido la función de informes, vamos a comprobarlo. Para esta misión, los tanques no están llenos:\n",
    "\n",
    "#### Llamamos a la función que genera el reporte print(funcion(tanque1, tanque2, tanque3))\n",
    "En lugar de simplemente crear el informe, la función también está calculando el promedio. Mejora la legibilidad extrayendo el cálculo promedio de la función en una nueva función para que el promedio se pueda hacer de forma independiente:\n",
    "\n",
    "#### Función promedio \n",
    "Ahora actualiza la función de informes para llamando a la nueva función del promedio:\n",
    "\n",
    "#### Actualiza la función\n",
    "Recuerda: Lo importante es intentarlo, puedes auxiliarte de internet, libros, etc. El objetivo de una kata es la comprobación de la comprensión de la lección y su aplicación inmediata a la resolución de problemas. Go for it!"
   ]
  },
  {
   "cell_type": "code",
   "execution_count": 7,
   "metadata": {},
   "outputs": [
    {
     "name": "stdout",
     "output_type": "stream",
     "text": [
      "REPORTE DE COMBUSTIBLE:\n",
      "    Promedio Total: 84.66666666666667%\n",
      "    Tanque1: 88%\n",
      "    Tanque2: 96%\n",
      "    Tanque3: 70% \n",
      "    \n",
      "REPORTE DE COMBUSTIBLE:\n",
      "    Promedio Total: 84.66666666666667%\n",
      "    Tanque1: 88%\n",
      "    Tanque2: 96%\n",
      "    Tanque3: 70% \n",
      "    \n"
     ]
    }
   ],
   "source": [
    "def informe_tank(tank1, tank2, tank3):\n",
    "    total_promedio = (tank1 + tank2 + tank3) / 3\n",
    "    return f\"\"\"REPORTE DE COMBUSTIBLE:\n",
    "    Promedio Total: {total_promedio}%\n",
    "    Tanque1: {tank1}%\n",
    "    Tanque2: {tank2}%\n",
    "    Tanque3: {tank3}% \n",
    "    \"\"\"\n",
    "print(informe_tank(88, 96, 70))\n",
    "def promedio(values):\n",
    "    total = sum(values)\n",
    "    items_num = len(values)\n",
    "    return total / items_num\n",
    "\n",
    "promedio([80, 85, 81]) \n",
    "def informe_tank(tank1, tank2, tank3):\n",
    "    return f\"\"\"REPORTE DE COMBUSTIBLE:\n",
    "    Promedio Total: {promedio([tank1, tank2, tank3])}%\n",
    "    Tanque1: {tank1}%\n",
    "    Tanque2: {tank2}%\n",
    "    Tanque3: {tank3}% \n",
    "    \"\"\"\n",
    "print(informe_tank(88, 96, 70))"
   ]
  },
  {
   "cell_type": "markdown",
   "metadata": {},
   "source": [
    "## Ejercicio 2: Trabajo con argumentos de palabra clave\n",
    "### Ejercicio : Trabajar con argumentos de palabras clave en funciones\n",
    "En este ejercicio, construirás un informe de cohete que requiere varias piezas de información, como el tiempo hasta el destino, el combustible a la izquierda y el nombre del destino. Comienza por crear una función que creará un informe preciso de la misión:\n",
    "\n",
    "#### Función con un informe preciso de la misión. Considera hora de prelanzamiento, tiempo de vuelo, destino, tanque externo y tanque interno\n",
    "La función es problemática porque no se puede adaptar para minutos adicionales o tanques adicionales de combustible. Hazlo más flexible permitiendo cualquier número de pasos basados en el tiempo y cualquier número de tanques. En lugar de usar *args y **kwargs, aprovecha el hecho de que puedes usar cualquier nombre que desees. Asegurate que la función sea más legible mediante el uso de nombres de variables que están asociados con las entradas, como *minutes y **fuel_reservoirs:\n",
    "\n",
    "#### Escribe tu nueva función de reporte considerando lo anterior\n",
    "Debido a que el combustible que queda en los tanques es específico de cada tanque, actualiza la función para usar el nombre de cada tanque en el informe:\n",
    "\n",
    "#### Escribe tu nueva función"
   ]
  },
  {
   "cell_type": "code",
   "execution_count": 12,
   "metadata": {},
   "outputs": [
    {
     "name": "stdout",
     "output_type": "stream",
     "text": [
      "\n",
      "    Misión a Luna\n",
      "    Tiempo de viaje total: 65 minutos\n",
      "    Combustible izquierda total: 500000 galones\n",
      "    \n",
      "\n",
      "    Misión a Luna\n",
      "    Tiempo de viaje total: 76 minutos\n",
      "    Combustible izquierda total: 500000\n",
      "    \n",
      "\n",
      "    Misión a Luna\n",
      "    Tiempo de viaje total: 74 minutos\n",
      "    Combustible izquierda total: 500000\n",
      "    Tanque interior --> 300000 galones izquierdos\n",
      "Tanque externo --> 200000 galones izquierdos\n",
      "\n"
     ]
    }
   ],
   "source": [
    "def informe_preciso(h_l, t_v, destino, tank_e, tank_i):\n",
    "    return f\"\"\"\n",
    "    Misión a {destino}\n",
    "    Tiempo de viaje total: {h_l + t_v} minutos\n",
    "    Combustible izquierda total: {tank_e + tank_i} galones\n",
    "    \"\"\"\n",
    "\n",
    "print(informe_preciso(14, 51, \"Luna\", 200000, 300000))\n",
    "# Mejorando\n",
    "def informe_preciso(destino, *minutos, **fuel_reservoirs):\n",
    "    return f\"\"\"\n",
    "    Misión a {destino}\n",
    "    Tiempo de viaje total: {sum(minutos)} minutos\n",
    "    Combustible izquierda total: {sum(fuel_reservoirs.values())}\n",
    "    \"\"\"\n",
    "\n",
    "print(informe_preciso(\"Luna\", 10, 15, 51, interior=300000, externo=200000))\n",
    "def informe_preciso(destino, *minutos, **fuel_reservoirs):\n",
    "    main_report = f\"\"\"\n",
    "    Misión a {destino}\n",
    "    Tiempo de viaje total: {sum(minutos)} minutos\n",
    "    Combustible izquierda total: {sum(fuel_reservoirs.values())}\n",
    "    \"\"\"\n",
    "    for tank_name, galones in fuel_reservoirs.items():\n",
    "        main_report += f\"Tanque {tank_name} --> {galones} galones izquierdos\\n\"\n",
    "    return main_report\n",
    "\n",
    "print(informe_preciso(\"Luna\", 8, 11, 55, interior=300000, externo=200000))"
   ]
  }
 ],
 "metadata": {
  "interpreter": {
   "hash": "976971a01f6a693ac01ba6ef90bdaec72cfc53b2b1f90d14be79956a43703cae"
  },
  "kernelspec": {
   "display_name": "Python 3.10.2 64-bit",
   "language": "python",
   "name": "python3"
  },
  "language_info": {
   "codemirror_mode": {
    "name": "ipython",
    "version": 3
   },
   "file_extension": ".py",
   "mimetype": "text/x-python",
   "name": "python",
   "nbconvert_exporter": "python",
   "pygments_lexer": "ipython3",
   "version": "3.10.2"
  },
  "orig_nbformat": 4
 },
 "nbformat": 4,
 "nbformat_minor": 2
}
